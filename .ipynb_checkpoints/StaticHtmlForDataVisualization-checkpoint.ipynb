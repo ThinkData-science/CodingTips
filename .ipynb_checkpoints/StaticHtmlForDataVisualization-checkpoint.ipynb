{
 "cells": [
  {
   "cell_type": "markdown",
   "metadata": {},
   "source": [
    "# Using Static HTML to Visualize Data\n",
    "\n",
    "Static HTML is a very convenient way to easily visualize data and results. It provides a low-tech way to produce clean, organized, well-formated displays and requires almost no overhead. Given the large number of data visualizaton libraries that are available, it is often overlooked, but can still be a very powerful tool. \n",
    "\n",
    "Here are some of what I consider to be the most obvious benefits:\n",
    "* There are no library dependancies and the outputs can be visualized on any platform/OS. Can't get the shiny data visualization toolbox installed? No problem. All you need is a web browser and you are set. \n",
    "* Easily implemented in any software language and given that the output is an ASCII file it is typically very easy to debug. \n",
    "* Easily extended and customized using more advanced HTML or CSS. You can get as fancy as you want. If you are willing to invest some upfront time into creating some helper functions then you can make really nice visualization products with minimal effort. "
   ]
  },
  {
   "cell_type": "markdown",
   "metadata": {},
   "source": [
    "## Basic HTML\n",
    "\n",
    "HTML is markup language that is based on a very simple syntax that uses pairs of tags, <> and </>, to define the beginning and end of blocks of code. One of several keywords is used within a pair of these tags to define a section of the HTML file. For example, a simple html file would like somethig like this:\n",
    "\n",
    "\\<html>  \n",
    "  \n",
    "\\<body>  \n",
    "    ... All of the body code would live here ...  \n",
    "\\</body>  \n",
    "  \n",
    "\\</html>  \n",
    " \n",
    "In this example, there are tag pairs for the overall html document and the document body. That's actually all we would need to generate a valid html file. "
   ]
  },
  {
   "cell_type": "markdown",
   "metadata": {},
   "source": [
    "## HTML Table Syntax\n",
    "\n",
    "The main element that we are going to use to organize our data is the html table. A table is enclosed with \\<table> and \\</table> tags and then includes three different sub-elements.\n",
    "* \\<th> \\</th> defines the table header.\n",
    "* \\<tr> \\</tr> defines a table row.\n",
    "* \\<td> \\</td> defines a table data/cell. \n",
    "    \n",
    "The table header is defined once at the beginning of the code block and will automatically bold the column names. New table rows and nested table cells are added to accomodate the data. \n",
    "  \n",
    "Here is an example of a full table.   "
   ]
  },
  {
   "cell_type": "raw",
   "metadata": {},
   "source": [
    "<html>\n",
    "<body>    \n",
    "    <table style=\"text-align:center\">\n",
    "        <th>Name1</th><th>Name2</th>\n",
    "        <tr><td> Test 1 </td><td> Test 2</td></tr>\n",
    "        <tr><td> Test A </td><td> Test B</td></tr>\n",
    "        <tr><td> Test Square </td><td> Test Triangle</td></tr>\n",
    "        <tr><td> Really long name 1 </td><td> Really long name 2 </td></tr>\n",
    "    </table>                \n",
    "</body>\n",
    "</html>"
   ]
  },
  {
   "cell_type": "markdown",
   "metadata": {},
   "source": [
    "Which will look like this in a web browser."
   ]
  },
  {
   "cell_type": "markdown",
   "metadata": {},
   "source": [
    "<html><body>    \n",
    "    <div>   \n",
    "        <table style=\"text-align:center\">\n",
    "            <th>Name1</th><th>Name2</th>\n",
    "            <tr><td> Test 1 </td><td> Test 2</td></tr>\n",
    "            <tr><td> Test A </td><td> Test B</td></tr>\n",
    "            <tr><td> Test Square </td><td> Test Triangle</td></tr>\n",
    "            <tr><td> Really long name 1 </td><td> Really long name 2 </td></tr>\n",
    "        </table>                \n",
    "    </div>        \n",
    "</body></html>"
   ]
  },
  {
   "cell_type": "markdown",
   "metadata": {},
   "source": [
    "## Generating an HTML File\n",
    "\n",
    "As an example, we going to write a simple Python function that can automatically create an html file to to display images. Specifically, we will write a function that compares N sets of images. This can be used for things like comparing before-and-after images, displaying different algorithms, multiple versions of the same algorithm, or many other comparisons.  \n",
    "  \n",
    "To do this, we will need one a new html tag for displaying images: \\<img src=\"image_name.png\" alt=\"Alternate Text\">, whre \"src\" is the relative path to the image file and \"alt\" is the alternative text description that will show up if the images can't be found.  \n",
    "  \n",
    "Let's write a simple function. "
   ]
  },
  {
   "cell_type": "code",
   "execution_count": 47,
   "metadata": {},
   "outputs": [],
   "source": [
    "def compareImages( headers, *arg ):\n",
    "    \n",
    "    html_str = ''\n",
    "    \n",
    "    n_list = len( arg )\n",
    "    \n",
    "    # Verify the sizes\n",
    "    size_0 = len( arg[0] )\n",
    "    for ll in range( n_list ):\n",
    "        assert size_0 == len( arg[ll] ), \"All image lists must be the same length!\"\n",
    "\n",
    "    # Start HTML string\n",
    "    html_str = html_str + '<html>\\n'\n",
    "    html_str = html_str + '  <body>\\n'\n",
    "    html_str = html_str + '    <table style=\"text-align:center\">\\n'\n",
    "    \n",
    "    # Add the header strings\n",
    "    html_str = html_str + '      '\n",
    "    for header in headers:\n",
    "        html_str = html_str + '<th>{}</th>'.format( header )\n",
    "    html_str = html_str + '\\n'\n",
    "    \n",
    "    # Insert the file paths\n",
    "    for i in range( size_0 ):\n",
    "        html_str = html_str + '      <tr>'\n",
    "        for ll in range( n_list ):\n",
    "            html_str = html_str + '<td><img src=\"{}\" alt=\"P{}\"></td>'.format( arg[ll][i], arg[ll][i] )\n",
    "        html_str = html_str + '</tr>\\n'\n",
    "    \n",
    "    # Finisher HTML string\n",
    "    html_str = html_str + '    </table>\\n'\n",
    "    html_str = html_str + '  </body>\\n'\n",
    "    html_str = html_str + '</html>'    \n",
    "    \n",
    "    return html_str"
   ]
  },
  {
   "cell_type": "markdown",
   "metadata": {},
   "source": [
    "Now using this function we can build a simple example that will return html text. In general, you would write this text to a file and then view in a web browser, but for simplicity, we will display the html directly in the Jupyter notebook. "
   ]
  },
  {
   "cell_type": "code",
   "execution_count": 66,
   "metadata": {},
   "outputs": [],
   "source": [
    "# Column headers\n",
    "headers = [ 'Column 1', 'Column 2' , 'Column 3' ]\n",
    "\n",
    "# Inputs\n",
    "in1 = [ 'png/red.png', 'png/red.png', 'png/red.png' ]\n",
    "in2 = [ 'png/green.png', 'png/green.png', 'png/green.png' ]\n",
    "in3 = [ 'png/blue.png', 'png/blue.png', 'png/blue.png' ]\n",
    "\n",
    "# Build the html string\n",
    "html_str = compareImages( headers, in1, in2, in3 )"
   ]
  },
  {
   "cell_type": "markdown",
   "metadata": {},
   "source": [
    "We can check our output by printing as text to see that the html syntax is correct. "
   ]
  },
  {
   "cell_type": "code",
   "execution_count": 67,
   "metadata": {},
   "outputs": [
    {
     "name": "stdout",
     "output_type": "stream",
     "text": [
      "<html>\n",
      "  <body>\n",
      "    <table style=\"text-align:center\">\n",
      "      <th>Column 1</th><th>Column 2</th><th>Column 3</th>\n",
      "      <tr><td><img src=\"png/red.png\" alt=\"Ppng/red.png\"></td><td><img src=\"png/green.png\" alt=\"Ppng/green.png\"></td><td><img src=\"png/blue.png\" alt=\"Ppng/blue.png\"></td></tr>\n",
      "      <tr><td><img src=\"png/red.png\" alt=\"Ppng/red.png\"></td><td><img src=\"png/green.png\" alt=\"Ppng/green.png\"></td><td><img src=\"png/blue.png\" alt=\"Ppng/blue.png\"></td></tr>\n",
      "      <tr><td><img src=\"png/red.png\" alt=\"Ppng/red.png\"></td><td><img src=\"png/green.png\" alt=\"Ppng/green.png\"></td><td><img src=\"png/blue.png\" alt=\"Ppng/blue.png\"></td></tr>\n",
      "    </table>\n",
      "  </body>\n",
      "</html>\n"
     ]
    }
   ],
   "source": [
    "print( html_str )"
   ]
  },
  {
   "cell_type": "markdown",
   "metadata": {},
   "source": [
    "We can also use Jupyter to display the resulting html output directly in this notebook."
   ]
  },
  {
   "cell_type": "code",
   "execution_count": 68,
   "metadata": {},
   "outputs": [
    {
     "data": {
      "text/html": [
       "<html>\n",
       "  <body>\n",
       "    <table style=\"text-align:center\">\n",
       "      <th>Column 1</th><th>Column 2</th><th>Column 3</th>\n",
       "      <tr><td><img src=\"png/red.png\" alt=\"Ppng/red.png\"></td><td><img src=\"png/green.png\" alt=\"Ppng/green.png\"></td><td><img src=\"png/blue.png\" alt=\"Ppng/blue.png\"></td></tr>\n",
       "      <tr><td><img src=\"png/red.png\" alt=\"Ppng/red.png\"></td><td><img src=\"png/green.png\" alt=\"Ppng/green.png\"></td><td><img src=\"png/blue.png\" alt=\"Ppng/blue.png\"></td></tr>\n",
       "      <tr><td><img src=\"png/red.png\" alt=\"Ppng/red.png\"></td><td><img src=\"png/green.png\" alt=\"Ppng/green.png\"></td><td><img src=\"png/blue.png\" alt=\"Ppng/blue.png\"></td></tr>\n",
       "    </table>\n",
       "  </body>\n",
       "</html>"
      ],
      "text/plain": [
       "<IPython.core.display.HTML object>"
      ]
     },
     "metadata": {},
     "output_type": "display_data"
    }
   ],
   "source": [
    "from IPython.core.display import display, HTML\n",
    "\n",
    "display( HTML( html_str ) )"
   ]
  },
  {
   "cell_type": "markdown",
   "metadata": {},
   "source": [
    "## Conclusion\n",
    "\n",
    "Now this really is just the tip of the iceburg. There loads of fancy formatting options that can be applied directly within the html file or with companion CSS files. \n",
    "  \n",
    "Additionally, you can dream up any number of additional configurations that would be useful. You can combine images and text data, or create multiple html files that are connected through hyperlinks. The options really are endless. \n",
    "  \n",
    "If you are feeling adventurous then check out all of the cool things that you can do with html (https://www.w3schools.com/html/) and CSS (https://www.w3schools.com/css/default.asp)."
   ]
  },
  {
   "cell_type": "code",
   "execution_count": null,
   "metadata": {},
   "outputs": [],
   "source": []
  }
 ],
 "metadata": {
  "kernelspec": {
   "display_name": "Python 3",
   "language": "python",
   "name": "python3"
  },
  "language_info": {
   "codemirror_mode": {
    "name": "ipython",
    "version": 3
   },
   "file_extension": ".py",
   "mimetype": "text/x-python",
   "name": "python",
   "nbconvert_exporter": "python",
   "pygments_lexer": "ipython3",
   "version": "3.7.6"
  }
 },
 "nbformat": 4,
 "nbformat_minor": 4
}
