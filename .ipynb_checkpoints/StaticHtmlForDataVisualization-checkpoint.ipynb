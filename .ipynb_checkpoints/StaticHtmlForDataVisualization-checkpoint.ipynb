{
 "cells": [
  {
   "cell_type": "markdown",
   "metadata": {},
   "source": [
    "# Using Static HTML to Visualize Data\n",
    "\n",
    "Static HTML is a very convenient way to easily visualize data and results. It provides a low-tech way to produce clean, organized, well-formated displays and requires almost no overhead. Given the large number of data visualizaton libraries that are available, it is often overlooked, but can still be a very powerful tool. \n",
    "\n",
    "Here are some of what I consider to be the most obvious benefits:\n",
    "* There are no library dependancies and the outputs can be visualized on any platform/OS. Can't get the shiny data visualization toolbox installed? No problem. All you need is a web browser and you are set. \n",
    "* Easily implemented in any software language and given that the output is an ASCII file it is typically very easy to debug. \n",
    "* Easily extended and customized using more advanced HTML or CSS. You can get as fancy as you want. If you are willing to invest some upfront time into creating some helper functions then you can make really nice visualization products with minimal effort. "
   ]
  },
  {
   "cell_type": "markdown",
   "metadata": {},
   "source": [
    "## Basic HTML\n",
    "\n",
    "HTML is markup language that is based on a very simple syntax that uses pairs of tags, <> and </>, to define the beginning and end of blocks of code. One of several keywords is used within a pair of these tags to define a section of the HTML file. For example, a simple html file would like somethig like this:\n",
    "\n",
    "\\<html>  \n",
    "  \n",
    "\\<body>  \n",
    "    ... All of the body code would live here ...  \n",
    "\\</body>  \n",
    "  \n",
    "\\</html>  \n",
    " \n",
    "In this example, there are tag pairs for the overall html document and the document body. That's actually all we would need to generate a valid html file. "
   ]
  },
  {
   "cell_type": "markdown",
   "metadata": {},
   "source": [
    "## HTML Table Syntax\n",
    "\n",
    "The main element that we are going to use to organize our data is the html table. A table is enclosed with \\<table> and \\</table> tags and then includes three different sub-elements.\n",
    "* \\<th> \\</th> defines the table header.\n",
    "* \\<tr> \\</tr> defines a table row.\n",
    "* \\<td> \\</td> defines a table data/cell. \n",
    "    \n",
    "The table header is defined once at the beginning of the code block and will automatically bold the column names. New table rows and nested table cells are added to accomodate the data. \n",
    "  \n",
    "Here is an example of a full table.   "
   ]
  },
  {
   "cell_type": "raw",
   "metadata": {},
   "source": [
    "<html>\n",
    "<body>    \n",
    "    <table style=\"text-align:center\">\n",
    "        <th>Name1</th><th>Name2</th>\n",
    "        <tr><td> Test 1 </td><td> Test 2</td></tr>\n",
    "        <tr><td> Test A </td><td> Test B</td></tr>\n",
    "        <tr><td> Test Square </td><td> Test Triangle</td></tr>\n",
    "        <tr><td> Really long name 1 </td><td> Really long name 2 </td></tr>\n",
    "    </table>                \n",
    "</body>\n",
    "</html>"
   ]
  },
  {
   "cell_type": "markdown",
   "metadata": {},
   "source": [
    "Which will look like this in a web browser."
   ]
  },
  {
   "cell_type": "markdown",
   "metadata": {},
   "source": [
    "<html><body>    \n",
    "    <div>   \n",
    "        <table style=\"text-align:center\">\n",
    "            <th>Name1</th><th>Name2</th>\n",
    "            <tr><td> Test 1 </td><td> Test 2</td></tr>\n",
    "            <tr><td> Test A </td><td> Test B</td></tr>\n",
    "            <tr><td> Test Square </td><td> Test Triangle</td></tr>\n",
    "            <tr><td> Really long name 1 </td><td> Really long name 2 </td></tr>\n",
    "        </table>                \n",
    "    </div>        \n",
    "</body></html>"
   ]
  },
  {
   "cell_type": "markdown",
   "metadata": {},
   "source": [
    "## Generating an HTML File\n",
    "\n",
    "As an example, we going to write a simple Python function that can automatically create an html file to to display images. "
   ]
  },
  {
   "cell_type": "code",
   "execution_count": null,
   "metadata": {},
   "outputs": [],
   "source": []
  },
  {
   "cell_type": "code",
   "execution_count": null,
   "metadata": {},
   "outputs": [],
   "source": [
    "from IPython.core.display import display, HTML\n",
    "display(HTML('<h1>Hello, world!</h1>'))"
   ]
  }
 ],
 "metadata": {
  "kernelspec": {
   "display_name": "Python 3",
   "language": "python",
   "name": "python3"
  },
  "language_info": {
   "codemirror_mode": {
    "name": "ipython",
    "version": 3
   },
   "file_extension": ".py",
   "mimetype": "text/x-python",
   "name": "python",
   "nbconvert_exporter": "python",
   "pygments_lexer": "ipython3",
   "version": "3.7.6"
  }
 },
 "nbformat": 4,
 "nbformat_minor": 4
}
